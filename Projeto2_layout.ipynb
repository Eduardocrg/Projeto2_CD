{
 "cells": [
  {
   "cell_type": "markdown",
   "metadata": {},
   "source": [
    "# Projeto 2 - Ciência dos Dados"
   ]
  },
  {
   "cell_type": "markdown",
   "metadata": {},
   "source": [
    "Nome: _____\n",
    "\n",
    "Nome: _____"
   ]
  },
  {
   "cell_type": "markdown",
   "metadata": {},
   "source": [
    "Serão permitidos grupos de três pessoas, mas com uma rubrica mais exigente. Grupos deste tamanho precisarão fazer um questionário de avaliação de trabalho em equipe"
   ]
  },
  {
   "cell_type": "markdown",
   "metadata": {},
   "source": [
    "___\n",
    "# Classificador automático de sentimento\n"
   ]
  },
  {
   "cell_type": "markdown",
   "metadata": {},
   "source": [
    "## Preparando o ambiente no jupyter:"
   ]
  },
  {
   "cell_type": "code",
   "execution_count": 113,
   "metadata": {},
   "outputs": [
    {
     "ename": "ModuleNotFoundError",
     "evalue": "No module named 'emoji'",
     "output_type": "error",
     "traceback": [
      "\u001b[0;31m---------------------------------------------------------------------------\u001b[0m",
      "\u001b[0;31mModuleNotFoundError\u001b[0m                       Traceback (most recent call last)",
      "\u001b[0;32m<ipython-input-113-92ed258329de>\u001b[0m in \u001b[0;36m<module>\u001b[0;34m\u001b[0m\n\u001b[1;32m      4\u001b[0m \u001b[0;32mimport\u001b[0m \u001b[0mpandas\u001b[0m \u001b[0;32mas\u001b[0m \u001b[0mpd\u001b[0m\u001b[0;34m\u001b[0m\u001b[0;34m\u001b[0m\u001b[0m\n\u001b[1;32m      5\u001b[0m \u001b[0;32mimport\u001b[0m \u001b[0mre\u001b[0m\u001b[0;34m\u001b[0m\u001b[0;34m\u001b[0m\u001b[0m\n\u001b[0;32m----> 6\u001b[0;31m \u001b[0;32mfrom\u001b[0m \u001b[0memoji\u001b[0m \u001b[0;32mimport\u001b[0m \u001b[0mUNICODE_EMOJI\u001b[0m\u001b[0;34m\u001b[0m\u001b[0;34m\u001b[0m\u001b[0m\n\u001b[0m",
      "\u001b[0;31mModuleNotFoundError\u001b[0m: No module named 'emoji'"
     ]
    }
   ],
   "source": [
    "%%capture\n",
    "\n",
    "#Instalando o tweepy\n",
    "!pip install tweepy\n",
    "import pandas as pd\n",
    "import re\n",
    "from emoji import UNICODE_EMOJI"
   ]
  },
  {
   "cell_type": "code",
   "execution_count": 3,
   "metadata": {
    "jupyter": {
     "outputs_hidden": true
    }
   },
   "outputs": [],
   "source": [
    "import tweepy\n",
    "import math\n",
    "import os.path\n",
    "import pandas as pd\n",
    "import json\n",
    "from random import shuffle"
   ]
  },
  {
   "cell_type": "markdown",
   "metadata": {},
   "source": [
    "___\n",
    "## Autenticando no  Twitter\n",
    "\n",
    "* Conta: ***[Preencha aqui o id da sua conta. Ex: @fulano ]***"
   ]
  },
  {
   "cell_type": "code",
   "execution_count": 15,
   "metadata": {
    "jupyter": {
     "outputs_hidden": true
    }
   },
   "outputs": [],
   "source": [
    "#Dados de autenticação do twitter:\n",
    "\n",
    "#Coloque aqui o identificador da conta no twitter: @fulano\n",
    "\n",
    "#leitura do arquivo no formato JSON\n",
    "with open('auth.pass') as fp:    \n",
    "    data = json.load(fp)\n",
    "\n",
    "#Configurando a biblioteca. Não modificar\n",
    "auth = tweepy.OAuthHandler(data['consumer_key'], data['consumer_secret'])\n",
    "auth.set_access_token(data['access_token'], data['access_token_secret'])"
   ]
  },
  {
   "cell_type": "markdown",
   "metadata": {},
   "source": [
    "___\n",
    "## Etapas do projeto:"
   ]
  },
  {
   "cell_type": "markdown",
   "metadata": {},
   "source": [
    "### Escolha de um produto e coleta das mensagens\n"
   ]
  },
  {
   "cell_type": "code",
   "execution_count": 16,
   "metadata": {
    "jupyter": {
     "outputs_hidden": true
    }
   },
   "outputs": [],
   "source": [
    "#Produto escolhido:\n",
    "produto = 'Windows'\n",
    "\n",
    "#Quantidade mínima de mensagens capturadas:\n",
    "n = 500\n",
    "#Quantidade mínima de mensagens para a base de treinamento:\n",
    "t = 300\n",
    "\n",
    "#Filtro de língua, escolha uma na tabela ISO 639-1.\n",
    "lang = 'en'"
   ]
  },
  {
   "cell_type": "markdown",
   "metadata": {},
   "source": [
    "Capturando os dados do twitter:"
   ]
  },
  {
   "cell_type": "code",
   "execution_count": 19,
   "metadata": {
    "jupyter": {
     "outputs_hidden": true
    }
   },
   "outputs": [],
   "source": [
    "#Cria um objeto para a captura\n",
    "api = tweepy.API(auth)\n",
    "\n",
    "#Inicia a captura, para mais detalhes: ver a documentação do tweepy\n",
    "i = 1\n",
    "msgs = []\n",
    "for msg in tweepy.Cursor(api.search, q = produto, lang=lang, tweet_mode=\"extended\").items():\n",
    "    if msg.full_text.lower()[0] != 'r' and msg.full_text.lower()[1] != 't':\n",
    "        msgs.append(msg.full_text.lower())\n",
    "        i += 1\n",
    "        if i > n:\n",
    "            break\n",
    "\n",
    "#Embaralhando as mensagens para reduzir um possível viés\n",
    "shuffle(msgs)"
   ]
  },
  {
   "cell_type": "markdown",
   "metadata": {},
   "source": [
    "Salvando os dados em uma planilha Excel:"
   ]
  },
  {
   "cell_type": "code",
   "execution_count": 20,
   "metadata": {
    "jupyter": {
     "outputs_hidden": true
    }
   },
   "outputs": [],
   "source": [
    "#Verifica se o arquivo não existe para não substituir um conjunto pronto\n",
    "if not os.path.isfile('./{0}.xlsx'.format(produto)):\n",
    "    \n",
    "    #Abre o arquivo para escrita\n",
    "    writer = pd.ExcelWriter('{0}.xlsx'.format(produto))\n",
    "\n",
    "    #divide o conjunto de mensagens em duas planilhas\n",
    "    dft = pd.DataFrame({'Treinamento' : pd.Series(msgs[:t])})\n",
    "    dft.to_excel(excel_writer = writer, sheet_name = 'Treinamento', index = False)\n",
    "\n",
    "    dfc = pd.DataFrame({'Teste' : pd.Series(msgs[t:])})\n",
    "    dfc.to_excel(excel_writer = writer, sheet_name = 'Teste', index = False)\n",
    "\n",
    "    #fecha o arquivo\n",
    "    writer.save()"
   ]
  },
  {
   "cell_type": "markdown",
   "metadata": {},
   "source": [
    "___\n",
    "### Classificando as mensagens na coragem\n",
    "\n",
    "Esta etapa é manual. Faça a mesma pelo Excel."
   ]
  },
  {
   "cell_type": "code",
   "execution_count": null,
   "metadata": {},
   "outputs": [],
   "source": []
  },
  {
   "cell_type": "code",
   "execution_count": null,
   "metadata": {},
   "outputs": [],
   "source": []
  },
  {
   "cell_type": "code",
   "execution_count": null,
   "metadata": {},
   "outputs": [],
   "source": []
  },
  {
   "cell_type": "markdown",
   "metadata": {},
   "source": [
    "___\n",
    "### Montando o Classificador Naive-Bayes\n",
    "\n",
    "Considerando apenas as mensagens da planilha Treinamento, ensine  seu classificador."
   ]
  },
  {
   "cell_type": "code",
   "execution_count": 84,
   "metadata": {},
   "outputs": [
    {
     "data": {
      "text/html": [
       "<div>\n",
       "<style scoped>\n",
       "    .dataframe tbody tr th:only-of-type {\n",
       "        vertical-align: middle;\n",
       "    }\n",
       "\n",
       "    .dataframe tbody tr th {\n",
       "        vertical-align: top;\n",
       "    }\n",
       "\n",
       "    .dataframe thead th {\n",
       "        text-align: right;\n",
       "    }\n",
       "</style>\n",
       "<table border=\"1\" class=\"dataframe\">\n",
       "  <thead>\n",
       "    <tr style=\"text-align: right;\">\n",
       "      <th></th>\n",
       "      <th>Treinamento</th>\n",
       "      <th>Relevancia</th>\n",
       "    </tr>\n",
       "  </thead>\n",
       "  <tbody>\n",
       "    <tr>\n",
       "      <th>0</th>\n",
       "      <td>@evelynchartres oh that's good to know! i have...</td>\n",
       "      <td>1</td>\n",
       "    </tr>\n",
       "    <tr>\n",
       "      <th>1</th>\n",
       "      <td>how to resolve a usb security key is not worki...</td>\n",
       "      <td>1</td>\n",
       "    </tr>\n",
       "    <tr>\n",
       "      <th>2</th>\n",
       "      <td>kumo ind. llc korea\\naluminum &amp;amp; u-pvc, win...</td>\n",
       "      <td>0</td>\n",
       "    </tr>\n",
       "    <tr>\n",
       "      <th>3</th>\n",
       "      <td>full time: heritage windows 2 - 1 braishfield ...</td>\n",
       "      <td>0</td>\n",
       "    </tr>\n",
       "    <tr>\n",
       "      <th>4</th>\n",
       "      <td>@sagaciouszu @aciouvistas @gorydetail it doesn...</td>\n",
       "      <td>1</td>\n",
       "    </tr>\n",
       "  </tbody>\n",
       "</table>\n",
       "</div>"
      ],
      "text/plain": [
       "                                         Treinamento  Relevancia\n",
       "0  @evelynchartres oh that's good to know! i have...           1\n",
       "1  how to resolve a usb security key is not worki...           1\n",
       "2  kumo ind. llc korea\\naluminum &amp; u-pvc, win...           0\n",
       "3  full time: heritage windows 2 - 1 braishfield ...           0\n",
       "4  @sagaciouszu @aciouvistas @gorydetail it doesn...           1"
      ]
     },
     "execution_count": 84,
     "metadata": {},
     "output_type": "execute_result"
    }
   ],
   "source": [
    "Doc = pd.read_excel('Windows.xlsx')\n",
    "Doc.head()"
   ]
  },
  {
   "cell_type": "code",
   "execution_count": 54,
   "metadata": {},
   "outputs": [
    {
     "name": "stdout",
     "output_type": "stream",
     "text": [
      "sagaciouszu @aciouvistas @gorydetail it doesn't function well with windows core stuff. like the font will get squished but in my prototypes i use it and it makes reading my games much easier\n"
     ]
    }
   ],
   "source": [
    "print(Doc.Treinamento[4].strip('@'))"
   ]
  },
  {
   "cell_type": "code",
   "execution_count": null,
   "metadata": {},
   "outputs": [],
   "source": []
  },
  {
   "cell_type": "code",
   "execution_count": 117,
   "metadata": {},
   "outputs": [
    {
     "name": "stdout",
     "output_type": "stream",
     "text": [
      "['evelynchartres oh thats good to know i have windows 6 haha i really need a new computer', 'how to resolve a usb security key is not working on windows 10?  https//t.co/haugaqmie0 https//t.co/gzja1nk7ug', 'kumo ind. llc korea aluminum &amp; upvc, windows, doors, modern kitchen trading  showroom sheikh mohammed bin salem road, ras al khaimah, uae from saturday  thursday 0900am100pm then 400pm1000pm  factory umm al quwain, uae from saturday  thursday 700am  700pm https//t.co/kplxyscls4', 'full time heritage windows 2  1 braishfield football club herbra pitchero https//t.co/zl7ulrkfe8 https//t.co/ffqw0sgspv', 'sagaciouszu aciouvistas gorydetail it doesnt function well with windows core stuff. like the font will get squished but in my prototypes i use it and it makes reading my games much easier', 'blakegc windows xp', 'the f7 has been cleared and is open for traffic in both directions. motorists are still advised to keep windows rolled up while driving the pass, however.', 'maggieelmasry h will look in all neighbour windows with indoor cats and beat them up whenever they get out, his version 😬', 'dear donald,  you know that sign in the retail windows of your wall street building the one that reads dean &amp; deluca coming soon  the sign thats been in the windows of that empty retail space for more than five years??  https//t.co/mp3uffq4cl', 'levhollinger thats like asking a mac user to switch to windows 😎 https//t.co/e4uvsnwmdh', 'thinking about moving to a windows 10 device? gomodern to unlock cost savings and thirdparty security solutions. check out the full forrester study for more. https//t.co/aeelgy4dhv', 'my car windows wont open. im afraid these are the warning signs kuti yava kuita getekete slowly but surely.😂😂😂😂', 'barondestructo i choose lost city part 2.  while windows was a good episode, lost city was much better. it as nice lead into sga plus the last time we saw the original cast together.', 'pronichkin jenmsft adhall_msft sounds like a hit and miss on windows nowadays.', 'time to upgrade is your business still running windows 7? if so, january 2020 is a deadline you need to be aware of... https//t.co/m2is38eemo', 'jay_beecher isabeloakeshott the trouble is some rightwing nutter or an agentprovocateur will inevitably turn up and the biased media will absolutely focus on that. truth is i dont have a better suggestion.. perhaps we could all bang our pans outside of our windows at a set time like they did in hk..😉', 'support for windows 7 and office 2010 is ending. whats the risk &amp; cost of sticking with windows 7? check out consumerreports to explore these questions. getmodern https//t.co/6qzaestfkg', '_daemons thenaughtysquid its so different that they even forgot how to develop windows. 🤦\\u200d♂️ seriously, windows 8.1 was their highest quality os. it was fast, well optimized and no bugs at all. modern ui or not, i liked using it. windows 10 on the other hand is like using linux on desktops in 2001.', 'nordicdickhead barnacules pugetsystems auxxzillary for someone whose fresh installed windows 1903. i have no issue with my microphone, just exclusive control and the volume being put to 100 because of certain apps.', 'weatherchannel lowesmedia knows who i am and have multiple videos of water pouring into my house thru all the windows lowes installed.    you also have invoice i paid to have windows fixed and estimates to fix water damage to multiple walls.  9 months and nothing from lowes marvinrellison', 'polish armed border guards smash windows of greenpeaces rainbow warrior with sledgehammers https//t.co/e74x9bi3ip via yahoo', 'protect yourself from midges and mosquitos with our insect midge net fine. suitable for use anywhere protection is required from insects including, over beds, windows, hammocks, tents, gazebos and bee keeping, fly masks for horses. https//t.co/jnpdq6artz gardenfabrics https//t.co/xxijgxitdt', 'the windows collaboration display from sharp_europe is the next generation 4k 70” interactive display. it enables more productive collaboration in meetings &amp; boardrooms etc. we are a sharp wcd distribution partner. call our av team today on 020 8296 7399 to order your 4k 70” wcd https//t.co/5wskuofuzc', 'were hosting a microsoft make the shift event and weve got a panel of expert speakers discussing the topic of microsoft windows 7 going end of support in january. those there can find out more about migrating to windows 10 and get hands on with the latest technology. https//t.co/4pnagauoxa', 'i’m sorry if they can’t hear you order in the drive thru i’m behind you with my windows down bumping these carti leaks', 'interesting story about notpetya https//t.co/yyzbs7cpfm and why spy agencies not disclosing security vulnerabilities immediately is such a bad idea. eternalblue nsa also, windowsmonoculture.', 'todays one of windows random sleep images 😅 https//t.co/niuhstpqtz', 'virginmedia hello. so this was the fastest speed i got at 1255 today. i did three tests. all other devices disconnected using the connect app. test conducted using a windows 7 laptop and chrome browser over an ethernet connection. https//t.co/rroh1msu5x', 'let me run these errands while my windows getting tinted', 'lesedii_28 some softwares forced me to upgrade to 10 and windows 10 is the same as 7. just managed to cap some few policies so it doesn’t chow data when i’m connected. i’m used to it now 😍', 'thats the way to deal with them.  https//t.co/7bsj8eblxf https//t.co/hq4najkijj', 'jenjamoo i totally get art nouveau from some of the items but i also see art deco influences. look at these art deco windows https//t.co/nkmcfol29s', 'i hate my windows you can hear absolutely everything going on outside 🤦🏻\\u200d♀️😫', 'bbc_topgear what’s the body colour panel on rear windows?', 'sanwo__ is it windows?', 'java ide the 10 best ides for java programmers https//t.co/kzc8izpcr9', 'autumn sale get your first 5 issues of one of our innovative tech titles today for just £5, $5 or €5  click link to access offer https//t.co/2rwcqgykuq  t&amp;cs apply.  tech magazines soundsystems computing webdevelopment apple ios autumn windows https//t.co/yphr3l4kbc', 'kumo ind. llc korea aluminum &amp; upvc, windows, doors, modern kitchen trading  showroom sheikh mohammed bin salem road, ras al khaimah, uae from saturday  thursday 0900am100pm then 400pm1000pm  factory umm al quwain, uae from saturday  thursday 700am  700pm https//t.co/kcsq8ihadk', 'microsoft shows real windows phone 8.1 and windows phone 9 phones to download', 'olaiya_sekemi close all windows to block all sound its blocking the sound not changing the ways of frying...', 'rfistman swjest i really hope they roll back some of their security changes, using catalina is eerily reminiscent of windows vista with its endless permissions dialogs.', 'latest news side by side – the choice is clear says lifestyle windows https//t.co/nh7ul4ghkz', 'debating about being that guy with the chiefs tailgating flags hanging from my car windows year round...', 'profgalloway slack may become like evernote or netscape back in the day. bundling with office 365 is the new preinstalling on windows.', 'uncle_jaan me too ', 'ma3route if npsofficial_ke were serious about the condition of the interiors of the vehicle in kenya,  then i guess no matatu would be on our roads kesho. no seat belts,  no cushion on seats, windows dont open, broken door locks,  ugly dashboards... etc etc', '104 tb, or 94.6 tib as windows counts it, is a perfectly normal amount of storage to have in a one bedroom apartment. https//t.co/dqcbsnn7od', 'im boarding up the windows locking up my heart', 'business  windows on arm keeps low profile at ifa as intel takes swipe at platforms compatibility problems  ifa2019  still, chipzillas almost everywhere when it comes to microsoft devices  | 12 https//t.co/jdab544bcl', 'lifeafter_en bring back the long modern looking glass windows please', 'first week  wednesday windows  now open for fall 2019 at first united methodist garland. this week featuring an italian potluck at 530pm, followed by two bible study opportunities, childrens choir rehearsals, first youth fellowship and more. https//t.co/ws2yc8efju https//t.co/chl9bennmf', 'vehicle  2016  toyota corolla   engine type 4 cylinder  leather seats  5 passenger seats  auto drive  alloy wheels  power windows  fm/am stereo cd loader/bluetooth  factory fitted a/c reverse camera   nb for… https//t.co/rtnqocypyc', 'metasploit has published an exploit for the bluekeep vulnerability, a muchdiscussed critical weakness that affects older versions of microsoft windows. the wormability of bluekeep makes it dangerous. https//t.co/bpjg4gdtnz https//t.co/5nc946hxc3', 'i hate when people blue tooth be loud as shit in there car...like i don’t need to hear your whole conversation if my windows up', 'thinking about moving to a windows 10 device? gomodern to unlock cost savings and thirdparty security solutions. check out the full forrester study for more. https//t.co/hlhdykr7dt', 'we updated this traditional dallas kitchen with a modern light fixture, sleek bar stools, and cleanlined windows to give it a more contemporary look interiordesign homedecor newtraditional dallas kitchen https//t.co/ezyjtgwpb1', 'ms powerpoint tip of the day  screen recording with powerpoint is available under the insert tab to stop recording, you may press the windows logo key + shift + q. when youre done, you may save the video the same way you normally save photos right click &gt; save media as❣️', '3. fall crunchy leaves comfy sweaters chilling with my windows open seasonal drinks sensory heaven in every way', 'n1s4rx bourgeoisviews millsyj50 regretkay sidthesod1 natalie01016290 esjabe1 scamhunter486 nancyparks8 janamb ntown1976nick philiptann1961 munchki53720423 newsanagrams christinesout15 davidhuddo nowayjomo carmarsutra nessiestressy andreamariapre2 pheobejeebies turaffetamer babs108164110 caesar2207 justjulescolson factsonly10x cruftms annil059 jblittlemore angi80839247 stemotson debgee9 xxsilverdoexx mills50j yohannavermeer meganbland12 annieirish68 ericson_niklas jonj85014 andyluhgnw3427 superdupedoodle mrdelorean2 mancunianmedlc melsmit15864245 tassie666 queendportugal chapclan pollygraph69 corroborate this the windows and shutters were never open ok bourgeoisviews and what? the mccann parents through clarence mitchell have said they were mistaken about the windows and the shutters being open. what difference does it make who saw them clised. bourgeoisviews  ·', 'he was on probation for previous dv &amp; another report would get him sent to prison. the incident made him suicidal &amp; he tried to od on xanax &amp; was going to drink bleach. he then went through his neighborhood , broke some windows out of cars and tried to break in a neighbors house', 'oops i forgot windows 7 support ends in 4 months, i should probably get around to upgrading especially if they decide to patch the free upgrade loophole', '* windows 10 version 1903 will be coming soon, microsoft warns  by kurt mackie 07/16/2019 this feature update (also known as the may 2019 update) is the most current version and was first commercially released by microsoft on may 21, 2019 https//t.co/upuc9g7nrp (670 x 405) https//t.co/uuho7eh9an', 'thinking about moving to a windows 10 device? gomodern to unlock cost savings and thirdparty security solutions. check out the full forrester study for more. https//t.co/wdpbktmel4', 'progieminnie thendo_bas burned de bed n put all his clothes in a bathtub n opened water n smashed the tv n windows🙈🙈🙈🙈', 'is your business still running windows 7? if so, january 2020 is a deadline you need to be aware of... https//t.co/a8pmyinqlj', '9.aafaque_ehsen_ideamines_sites expore_and_share_please ideamines_aes computing windows ms_office ms_excel spreadsheets urdu_tutorial_video https//t.co/zanfcg9mif we transport_ideas share_knowledge promote_learning enable_skills empower_people enrich_lives', 'the brilliant, mystical light from stained glass windows. one of the many crafts we can not allow to disappear.  tuesdaythoughts coventry cathedralthinking stained glass craft school university college https//t.co/gkawrclwvj', '10.aafaque_ehsen_ideamines_sites expore &amp; share please ideamines_aes computing windows ms_office ms_excel spreadsheets urdu_tutorial_video https//t.co/u0q3xflhco we transport_ideas share_knowledge promote_learning enable_skills empower_people enrich_lives', 'i love the rain, its so cozy hearing it pitterpattering against the windows while curled up in a blanket.', 'elvenmonk aciouvistas gorydetail awh. no. ( i guess you could just set windows to it.  i have windows set to neue haas grotesk and its reflected', 'is your business still running windows 7? if so, january 2020 is a deadline you need to be aware of... https//t.co/3ddnll3fza', 'kentcdodds eggheadio code for windows?', 'they’ll kill you over tinted windows. https//t.co/ggq8dey6qi', 'got to say i love the returning powertoys for windows 10  especially the fancyzones allowing you to quickly section all of your monitors  https//t.co/avggkaxwcz', 'saethus id say base it off the a380, but then make it wider and close some windows. try not to make a lot of hallways like there currently it.', 'reneritchie they got sucked into the same warmhole as windows 9.', 'archbishop broglio blesses new stained glass windows in main chapel of pastoral center  archdiocese for the military, usa https//t.co/stleusddvq', 'kahinaaaa viral_____ loooooooooooooooooooooool meeeee?????   i only use my tory membership card to scrape ice off the windows of the cars in my neighbourhood', 'ac_or_windows happy for this guy', 'kumo ind. llc korea aluminum &amp; upvc, windows, doors, modern kitchen trading  showroom sheikh mohammed bin salem road, ras al khaimah, uae from saturday  thursday 0900am100pm then 400pm1000pm  factory umm al quwain, uae from saturday  thursday 700am  700pm https//t.co/fpblqmts5r', 'is your business still running windows 7? if so, january 2020 is a deadline you need to be aware of... https//t.co/g8rrcndr7t', 'apart from looking in windows and seeing my man boobs 😤', 'this is what it was like to work at windows on the world. an excerpt from docsoupmans book, the most spectacular restaurant in the world https//t.co/mvkk13u7xi', 'ceramicpsycho this is why i dont open my fucking windows.', 'i have a trick to call in spotted rain showers called “cleaning the windows”. guaranteed to rain just enough to limit visibility. https//t.co/9bi9m3tmz6', ' 44 minutes till 4 an angel walked up to my door opened the windows to my soul💙', 'reneritchie windows 8 was so crappy and silly it took the whole industry backwards', 'akys0ra i need to do this soon to, fresh windows install makes everything run so smooth', 'mauricepodcast hey can you let us know your windows and spotify versions? well be waiting for your reply /mg', 'youve got a few options to prepare for when windows 2008 servers end support in january. lets talk about how i can help cdwsocial https//t.co/qblr1ucddf', 'android emulator for windows pc https//t.co/gfomndawgp', 'maryunderwood9 8 hrs a day in a box.  no windows. makes driving to and from work neked all the better.', 'honest question, what is wrong with windows 10 minecraft?', 'wana scream shit out windows when ppl pass by, il pullup break your front window and yell into your house screaming “your daughter a fkn hoe” keep your mouf shut and mind your damn boring business.', 'highly recommend driving with your windows down this morning, it’s fucking nice out', 'im using a usb boot drive that a coworker gave me but its supposed to be for dell laptops... another friends is gonna give me a fresh iso tomorrow instead so im really hoping that works??????? getting windows into this computer has taken way too long ughhjhhh', 'muchrejoicing ctdonath ok, you can have windows, but its the verbal situations people are worried about as well.  thats generally the reason, not just physical harrassment.', 'browser pong is on the verge of turning ten years old. (don’t play pong in windows, play pong with windows) here’s me speaking about it in london at the creativity and technology conference back in 2010.   https//t.co/iws3hwqah4', 'erahardaway either way, all the demons sittin outside ya windows now.', 'dave_lloyd1905 its not even like its a big car....  unless they were transporting a giant set of ladders which were placed through their windows i just cant fathom why you would be such an asshole', 'isaiahkellam joereplicant boogie2988 no, my job is cleaning windows. its not easy, but it pays damn good. 😂 youre really trying hard here, arent you? anime body pillow? legos? and last time i checked a neck beard was a beard on the neck. not a full face beard. jesus, you are sad. 🤣', 'another name for a microsoft windows tutorial is crash course teamfollowback', 'i have so much commenting and windows to make😭😭😭😭😭', 'whether youre new to windows 10 or have been using it for years, take a minute to lock down your privacy. https//t.co/wtxoznrxnv email privacy encryption https//t.co/vgdkwx6afp', 'definitely 3, top to bottom windows 😍 https//t.co/ssugslmd0d', 'joshua35833596 95_reynolds would be out i assume, windows closed', 'energyefficient windows market to reach usd 25.05 billion by 2026 | reports and data  globenewswire https//t.co/x0lv8tqtnw', 'prevent auto start of microsoftteams in windows https//t.co/os35c50dtu', 'from cutting grass to smashing windows, this cop’s secret weapon isn’t what you’d expect https//t.co/2zlf6mgns2 https//t.co/izxwmxugvv', 'caytlyn_brooke windows 6 you mean vista? or xp?', 'is hiring a windows systems engineer who can do powershell scripting and build active directory domains. this position is located in watertown mass.', 'best 4k media player | play all video formats https//t.co/3ueqns355j  download from app store )  windows 10  https//t.co/vhi2yinegj android  https//t.co/75eu9kpnhk ios (iphone / ipad)  https//t.co/6wgjc8gbam  powerful efficient reliable secure widnows10 microsoft', 'warning over win32/stealthfalcon malware that uses windows update system to steal data https//t.co/ijnqnkaak9 via computing_news', 'is it possible not to be stopped by windows security prompt when i try revealing the saved password in msedgedev? https//t.co/p5rshskcar', 'activate windows https//t.co/jmgs3tghxa', 'photo/videographers  how do you work with smoke machines or smoke bombs? i want to use them in an upcoming shoot, but im unsure about ppl calling the firefighters if we use them outside ( maybe even indoors, because smoke coming out of buildings/windows is scary? )', 'wonderfox hd video converter factory pro 17.2 giveaway https//t.co/psn50454hu https//t.co/35alaawtaq', '6 cars had their windows smashed last night in front of our house and liz was a lucky winner. fuck assholes.', 'big dreams  + travel abroad (japan, greece, ireland, new zealand) + take a backpacking trip + own a yoga studio + learn asl + own a home with a wall of windows to paint in + (alternatively own a tiny house) + learn to play harp + live sustainably', 'is your business still running windows 7? if so, january 2020 is a deadline you need to be aware of... https//t.co/wt3swxqccv', 'unclehxlmes wifi enabled complete set of dell optiplex dual core windows 10 desktop pc computer (renewed) https//t.co/d1dy2qe7rl got you boss man 😂', 'vermontgmg cnn come on, man. both blackberry and windows mobile were a thing before the millenium.', 'alix reillys fingerprints were found on broken glass after he stole £200 from the flat in may last year.  https//t.co/dz5gek9inz', 'this load shedding is also a good time to educate some household members about the dangers of carbon monoxide in charcoal.  just cook from outside, opening the windows isn’t enough. there a number of long term side effects after chronic exposure, especially on children. read up.', 'biblioracle yep. thats how my classroom in my 70yearold school is. i keep a thermometer there to record temps as proof. no windows that open either (security risk). yet admin building has a/c.', 'have you checked this out? https//t.co/gu5hxe5smn https//t.co/mlbcvcfxrx', 'i just can’t figure out where all these catnoselevel smudges on the windows are coming from.', 'no more waiting for prices on aluminium windows &amp; doors...  easyconnect is free to listers customers and gives instant prices. watch how it helped eddie https//t.co/100mqtzeyo  bifolds sliding patios slimlinewindows https//t.co/6x5tyjl9yk', 'i look through the windows of this love even tho we boarded them up, chandelier still flickering here ‘cause i can’t pretend it’s ok when it’s not  it’s death by a thousand cuts', 'exploit kits target windows users with ransomware and trojans  https//t.co/iilwq0uz9a  via cywareco', 'he kinda know of what to do.. like putting up sunshades on the windshield, windows and all.. it’s getting darker and the rain turned into a heavy downpour. we went from first to second base and it was around 5.30pm i guess..', 'microsoft surface go mhn00015 2018 10inch laptop (pentium gold 4415y/4gb/64gb/windows 10 home in s mode/integrated graphics), platinum at 29,999  https//t.co/g4q2zufylf', 'stephanie1lynch i spray along my carpert at the doors/bed /corners/doors/windows. i canny hack them neither, nothing worse when you lose it cause its ran away 😭😭😭', 'landless_native cutting grass, bricklaying, welding,even those making aluminum windows &amp; doors it’s mostly zims,moz,kenyans etc...nigerians don’t like hard labour &amp; small money...', 'i            just        took          a     dna       test  t u r n s      o u t          i   was   100%    using unix newlines     on a windows system', 'just sat havin a breakdown in emily’s car cos i put the key in to put the windows down n shes in a interview where she said she’d be 20 mins 2 hours ago n now the parkings ran out n i can’t get out the car cos the keys stuck n in too hot', 'dear windows defender, giving me a notification that you didnt find any threats when you last scanned, forcing noninformation into my brain, demanding my attention in order to explain that nothing happened, is very precisely the opposite of the purpose of a notification', 'haven’t update my windows like maybe forever', 'who  wants  a  galaxy  s10  for  4 millon    and  give  ma  hes  windows 10  or  buy  me  it   i  live in  botswana orapa tshpa  5  street  🙏🙏🙏🙏🙏', 'newly discovered cyberespionage malware abuses windows bits service https//t.co/utydj26xdb via zdnet &amp; campuscodi', 'thinking about moving to a windows 10 device? gomodern to unlock cost savings and thirdparty security solutions. check out the full forrester study for more. https//t.co/xhkgccd11v', 'i managed to get a pc with windows 10 pro, 2 batteries and a fingerprint scanner for free lmao that pc is totaly overkill bc i ust use it for school', 'the latest black market report shows the low price of devastating cyber tools https//t.co/2qv8w7g8rk', 'thinking about moving to a windows 10 device? gomodern to unlock cost savings and thirdparty security solutions. check out the full forrester study for more. https//t.co/1ns1gyup96', 'gozufucker69 yeah it’s a win98 era shutdown noise i think i can’t be bothered to remember which os specifically. there’s so many fucking versions of windows and so many startup and shutdown noises. i watched all of them in a row in seattle. i have no idea why', 'jayex1225 harrisonsba to be fair windows arrow has been around since windows xp,  and..... mac kinda blows', 'tomorrow’s patch tuesday — time to block windows automatic update https//t.co/6ohh29nlkg usa technews', 'windows powershell desinstalar servicios de active directory y dns. https//t.co/i6cyjzoccx powershell', 'fix can’t remove windows hello pin in windows 10  https//t.co/rzhlpofpyk mvpbuzz https//t.co/tzjhpeonaq', 'electricity gained via my windows how enlightning. urbanenergytud ndk2ndk zemanmiro https//t.co/d5qvxgr2gw', 'windows users could start powershell.exe and issue      getfilehash vivaldi_package_name.apk', '*hits blunt*  bill gate did not think that because his name is gate, then you should start selling gates.  he started by selling windows... https//t.co/wqoztbky4u', 'windows down kinda livin 1199rob leadered https//t.co/scolnyqoxs', 'five and a half hours later. thanks a whole bunch, windows. https//t.co/kvj0nebude', 'why do all new build/refurbished buildings (and public transport vehicles) have hermetically sealed windows? why is fresh air so hated? spent a week working in a beautiful old victorian building, now in some tacky, meanspaced, dingy, recycled air, toohot, newbuild. ffs.😠', 'bing  see this is windows 10 map app u r selling has a mutilated indian map. pls correct https//t.co/nb6rswxxja', 'evanhorvath23 blackflaggedpod i then promptly find a formula 1 indiana flappy bird mobile where side windows arent even a thing.', 'mistapixels im pretty sure it has to do with the last windows update. i uninstalled it and i havent had any issues since. besides hunt crashing every other game 😭', 'nature gives you clues, its time to prepare for the upcoming seasons. roofing, siding, windows, doors, gutters, and more. call (703) 3458709 or visit us at  https//t.co/6dwvjbxkh6 to make your appointment lastcallexteriors homeremodeling roofing siding windows gutters https//t.co/k96hhef9oi', 'shawntwrites whimp. open those windows back up and type faster, thatll keep the blood pumping. ;)', 'what selfmade decision(s) are you the happiest/proudest about? — learning to code. scrapping windows and running solely on ubuntu. moving to ibadan(soon) https//t.co/n4lvrcawgk', 'alicjacolon i know macs suck more and more. but first try to use windows for a while. it should help you to be happy with your mac again, and might prevent you from making a mistake.', 'jawsomebrody what a line up my car trips were bad  mj  blow up your video  ac/dc greatest hits  queen foreign affair  tina turner (steamy windows  fuck yeah) and when i was being a little prick  i was threatened with a new flame haha', 'these sticks. this carpet. the sun shining through the windows. there’s something i love about this space. it’s amazing how the addition of the stick logs have reduced the running in the classroom and revitalized the carpet as a play space. tons of oral … https//t.co/c1hoyzyhys https//t.co/rh8gwpcjls', 'i much rather see microsoft competing with apple than google with apple.   polish windows 10  launch a full array of actually powerful free first party windows 10 apps.  revive windows phone  audio hardware, speakers, headphones.', 'has to be windows', 'thinking about moving to a windows 10 device? gomodern to unlock cost savings and thirdparty security solutions. check out the full forrester study for more. https//t.co/vd4aoiic8v', 'epson et3750 printer drivers for windows &amp; mac\\xa0ios https//t.co/go7ipbzeok https//t.co/ptoiqv5ehg', 'here is the video i recorded. if this is normal any windows laptop is better than apple https//t.co/hvq7dusmu2', 'naaackers i loved my windows phone', 'download windowsserver 2012 r2/2016 vhd to use on virtualbox or vmware workstation https//t.co/kusai7qu3l', 'londondigital windows 10 patch turns users screens the colour of trumps stupid face https//t.co/4lcopoknt7 https//t.co/k7luzqy4oy(chris merriman)', 'if you get hold of a ssl certificate, dont forget to analyze it through the windows utility certutil. you can verify,dump and do other cool things with it.  bugbountytips cybersecurity osint https//t.co/ooja3ugg9s', 'new windows day i would make a joke about it being the most expensive time of the year but i already had to put in central a/c for the upstairs tenant and have new sidewalks coming in a few weeks so costwise this is pretty middle of the road.', 'chriskent86 0gamerzoidz0 i’m not sure if it runs on windows 10 as i haven’t played it in a while, it’s worth a try though. it might run on something like dosbox or scummvm maybe?', 'xxdesmus thousandeyes just fyi the webpage loaded in, like, a second. then it took 34 seconds to load the cookie preferences windows. i just clicked on agree because didnt want to waste time with loading other stuff. then the window thanked me for my click and i had to click ok. 1/2', 'is your business still running windows 7? if so, january 2020 is a deadline you need to be aware of... https//t.co/57a1wa6pvk', 'flobuilds love the windows with the rails', 'myfcmb what about that we are using windows phones. you just side line us. while other bank dont', 'kendja hellocatfood not my windows', 'these sticks. this carpet. the sun shining through the windows. there’s something i love about this space. it’s amazing how the addition of the stick logs have reduced the running in the classroom and revitalized the… https//t.co/voeqbyf6cz', 'i accidentally left my windows cracked overnight &amp; the smell not even there... god be lookin ouuuttttt', 'finally playing gears5, streaming the pc version from my windows gaming desktop to my nongaming linux laptop. it’s a convenient way to play without occupying the living room tv while not being limited to a gaming laptop. https//t.co/1mghbnvqyk', 'is your business still running windows 7? if so, january 2020 is a deadline you need to be aware of... https//t.co/qcwbzpw6vt', 'pesuniverse i’m downloading it but it’s coming through as a ‘photo viewer’. how do i download as a folder? done it in previous years. might be more of a windows 10 question?', 'ana_neculcea  hi ana, you might want to try gt4t that i created. using mt and online dictionaries in any app/cat tool without having to switch between windows and copy/paste around. google gt4t for more.', 'the bits system is used by microsoft to send windows updates to its users and is generally ignored by firewalls  https//t.co/tr1mcxwxpx', 'florinpop1705 laptop. i use a windows and a chrome book (running linux). i have a laptop for gaming too. would love to go back to a desktop for gaming, but i don’t have a designated area for one at the moment.', 'thinking about moving to a windows 10 device? gomodern to unlock cost savings and thirdparty security solutions. check out the full forrester study for more. https//t.co/cuhxln6m1j', 'no one said that. weve said he can throw consistent routes in tight windows. that had at least 2 to 3 yards for separation, plus they are playing a 214 team. miss me with this bullshit https//t.co/7pxwvnwwm7', 'irma was coming to annihilate us and becky and graig were singing this to each other while boarding up  our windows. https//t.co/seghchmp2n', 'drake_godette2 just get your windows tinted and then they can’t see 🤷🏼\\u200d♀️🧐', 'is your business still running windows 7? if so, january 2020 is a deadline you need to be aware of... https//t.co/5quqw9hrft', 'so... i had no idea span was an option in windows 10. now my lastofthemohicans desktop background looks even more epic with one screen being french, the other british 18thcentury 7yearswar frenchcolonial https//t.co/8j3wysi3l2', 'azuresupport here you are https//t.co/axxhputjsy', 'windows 1903 clipboard history feature stopped working https//t.co/a9100uykla https//t.co/ihtelohl1j', 'plex i am aware for ios andriod options, this used to be in the windows app and was replaced with this download option...please bring back the ability to do a sync option or the very least allow downloading of specific versions already there.  1/2', 'louispeitzman i know what you mean... i had a nightmare i was being hunted by aliens and had to shelter in place away from the windows, bird box style ... that was fun', 'thinking about moving to a windows 10 device? gomodern to unlock cost savings and thirdparty security solutions. check out the full forrester study for more. https//t.co/azfpse6fpu', 'philippabarr_  hi philippa, i am the developer of gt4t. you should give it a try. gt4t integrates google translate, deepl, microsoft translator, and many other online dictionaries into all windows/mac apps. google gt4t when you have a moment.', 'metasploit has published an exploit for the bluekeep vulnerability, a muchdiscussed critical weakness that affects older versions of microsoft windows. the wormability of bluekeep makes it dangerous. https//t.co/bxrx5bn7f3 https//t.co/phbrivnwc8', 'serverless (saas) means you hand over the operating system (windows, linux, etc) to the csp. remember with onpremise  operating systems kept sys admins busy? why would it be any different with cloud? think it thru before handing your os over to the csp. https//t.co/ubtqtmlezl', 'garrettemcgowan timadamsff kenfranczek crystalglassltd freefootieyeg groseandrew both front windows in my car were smashed when some was curious about the contents.  crystal glass (97 street and 130 avenue)replaced them within a day.', 'fucking windows 10', 'shuklasach alliuminium saliding windows and doors and soundproof windows interested please contact me krishna.aluminium18gmail.com 8879309212 low cost', 'koronel_kalasag ok, tubig. wait a sec... *leaves to get water and goes back with a glass* here... *offers the glass of water*  sorry about the air. i’ve already opened all the windows. i’m also no demigod so l can’t summon wind... even if i want to...', 'kevlennon1 henrywinter we went up on one  lowest budgets in league  our last 3 windows been garbage  doesnt mean we need spend loads but weve aload crap and deadwood in squad  lost our lb, best player in mooy  replaced our rb with a 4th tier german lad lost our best winger  more need leave as well', 'gears 5 is now generally available on xbox one, windows 10 and\\xa0steam https//t.co/8qzqc1yatj https//t.co/htil0qnflc', '“all my flowers grew back as thorns, windows boarded up after the storm” bitch wtf i’m cryinn', 'i just entered to win $10,000 in windows and doors from renewal by andersen rbacorp. enter for your chance to win https//t.co/devrexu60j', 'angerbeardtv check all your windows updates for a net frame update', 'kennybeats produce my windows 10 tutorial?', 'lifeafter_en bring back the long modern looking glass windows please', 'grantob hello i sell windows computers and i used to work on apple if you are looking for advice on making the switch or not, feel free to dm me', 'misslucyp christ im no coming round to yours. have got the windows open', 'i recently upgraded from 16 gb ram to 24 gb ram. i added an extra graphics card (gtx 1060 ti) to my gtx 1070 and still adobe illustrator crashes for no particular reasons. is this windows or just adobe being stubborn and glitchy again?', 'woa theres a twt app for windows?', 'pm_kukuterian lesedii_28 you can change some settings on bios. you just change it to legacy and you will be able to install windows 7', 'hello do u hear the rustling winds outside of your windows?????', 'glasgowcpolice i remember that fire...those barred windows..... (', 'never debase a house slums shrink like deafening rains lights cry like noisy windows', 'microsoft teams can be used to execute arbitrary payloads the problem affects most windows desktop apps that use squirrel installation and update framework, which uses nuget packages impacted products whatsapp, grammarly, github, slack, and discord https//t.co/k0msyyohqf', 'softorbits photo retoucher 5.0 giveaway https//t.co/wj0kk4p2ev https//t.co/9u2kpz04lp', 'thinking about moving to a windows 10 device? gomodern to unlock cost savings and thirdparty security solutions. check out the full forrester study for more. https//t.co/uggq3v2d1q', 'the complete guide to setting the default apps in windows 10 https//t.co/ksfkwo3zil', 'windows hopeless service.. trying to get issue resolved over chat with same agent (ritvik) already 4 times he has kept me waiting and disconnected chat support. case no.  1482644147', 'downloading &amp; installing mongodb on windows &amp; mac https//t.co/grfej1fecn nosql', 'mbadalet *assuming you on anything from windows 8 to windows 10*  after i did this i can tether my phone to laptop and it uses fairly little data https//t.co/7ov39vlcrl', 'i will never forget the events of september 11, 2001. i will never forget the 2977 innocent ppl who lost their lives on that day. i will always see those ppl make the harrowing decisions to jump out of the 100+ story windows. i will never forget the ideology that carried it out', 'windows music is fine. i like it.', 'heres a snippet of php5.5 i created for user downloads cross platform; works on mac mini and windows  should open dialog box with the file, name, size and open or save button  ghost_white_jpg will be downloaded when stored in the same directory  ob_clean == erase output buffer https//t.co/ysatms9wkn', 'name  stock  and competitive pricing. we are your 1 dealer and will amaze you we have a large variety of inventory and numerous financing options with competitive rates visit us at https//t.co/fzffbwb2ep or come and take a look,power windows, tx,am/fm w/cassette &amp; si.....', 'we recently supplied lily &amp; me with adtac to dress the windows of their first retail store. it was required to be easy to apply and damage free on removal. in addition, we supplied fretcut lettering to display the opening times of their store.  pos retail shopwindow adtac https//t.co/mjhwenre0v', 'hello microsoft, windows. i dont want a pin. i didnt set one up. now when updates are installed, my stateoftheart os asks me for a pin that i dont have and barfs when i say i dont have one. what is going on? https//t.co/wte5lmee9d', 'hello windows on oneplus 6 https//t.co/prbagxb69g', 'patterfloof obviously it was a big enough problem before people had windows and things xd', 'neilcybart biggest surprise would be imessage/facetime on multiple platforms. never say never.  disappointment? i dunno  crappy web apps for windows? i mean, if they’re good i guess that’s ok.', 'windows rdp server access peddled to anyone with pocket change  https//t.co/ptgnilobj9  via cywareco', 'i need my windows tinted asap cus i be doin tewww much to not 😂', '_michaelbrooks anakasparian emmavigeland unless it’s time to defendj20resistance.   then ana and emma have no choice but to beat down the naught, evil black bloc for... breaking some store windows and burning a f ck ng limousine.', 'maaaannn blast it with the windows down and it hit 10x better https//t.co/dpccjufcmq', 'i’m just attracted sa mata mo okay bwisit na perception yan jas “eyes are windows to (your) soul”', 'microsoft revives powertoys for windows..  h2o14_com  investcrypforex  tomshardware  twitter  news  noticias  bitcoin  cryptocurrency  technology  software https//t.co/cjg08atiuj https//t.co/uuiitaxrhw', 'nicolehayes1998 im excited for the build items. love the new fireplace and windows.', 'many new york restaurants hold a special place in the hearts of the people who cherish them. windows on the world was one of them, but it was something more, writes docsoupman https//t.co/7b24khyrfh', 'microsoft’s first powertoys for windows 10 now available to download  the verge https//t.co/xac7qnmzob', 'check this out luxury, spacious 2 stories loft with lots of natural light. gorgeous floor to ceiling windows with panoramic views of city and lake. open concept layout, plus highend appliances. great for entertaining. beautiful .. https//t.co/myekl3erie https//t.co/gvrbfmhc4l', 'thinking about moving to a windows 10 device? gomodern to unlock cost savings and thirdparty security solutions. check out the full forrester study for more. https//t.co/o0b5i9yguc', 'unimaginably blessed opening up windows and pouring out blessings. never take for granted. https//t.co/1lznutc6jf', 'people that blast music the loudest with their windows deserve a special place in hell', 'the uk gov emergency plans for a nodeal brexit  operation yellowhammer. the codename is not referring to a song bird. i think it really refers to the emergency hammer in buses &amp; trains used to break the windows and escape after a catastrophic accident. operationyellowhammer https//t.co/ubv8vgwrzj', 'gary_bainbridge my wife had a hardtop convertible peugeot. we took it from newcastle to somerset, in december. our dog stood between the front seats for the whole 300+ mile journey, and every time she needed to steady herself she put her paw on the button to lower all the windows at once.', 'hey_iamraghu i dont work with windows i have a linux machine i ssh into for the time being until i get a macbook. even then i hate windows', 'saturday, come tour downtown highland parks artfilled windows https//t.co/0htca7cfax https//t.co/mcvskq8grf', 'thinking about moving to a windows 10 device? gomodern to unlock cost savings and thirdparty security solutions. check out the full forrester study for more. https//t.co/veyho3ce3u', 'jdbstormtrooper and over here in the usa we have a bunch of college educated socialists breaking windows and assaulting anyone they see in a red hat  maybe we should send em to hong kong so they can see how life is under an authoritarian government', 'is your business still running windows 7? if so, january 2020 is a deadline you need to be aware of... https//t.co/iqi0pcvbtm', 'should i get windows 10 home or windows 10 pro? https//t.co/rtpkj7osxs   i am looking to buy a new gaming pc and i’ve already found two with the price and specs that i want. they are basically the exact same thing; same specs and same price, except one has windows 10 home and …', 'never miss a deadline 🎓 🖨 with mopria on windows 10, you can automatically connect to printers on the same wifi network whether you are in the library, at home, or onthego.   learn morehttps//t.co/p4hsu4uud2 https//t.co/ibylwwsmbu', 'kumo ind. llc korea aluminum &amp; upvc, windows, doors, modern kitchen trading  showroom sheikh mohammed bin salem road, ras al khaimah, uae from saturday  thursday 0900am100pm then 400pm1000pm  factory umm al quwain, uae from saturday  thursday 700am  700pm https//t.co/n6c5haw8ol', 'is your business still running windows 7? if so, january 2020 is a deadline you need to be aware of... https//t.co/o5xfomi4zj', 'nidhi if one knows that a robber is trying to enter ones home, will he not lock the doors and shut windows? or for the sake of view the french window is kept open?', 'thinking about moving to a windows 10 device? gomodern to unlock cost savings and thirdparty security solutions. check out the full forrester study for more. https//t.co/jigabxs4xo', 'why is windows 10 so much better than windows 7? our video explains https//t.co/gqmx6zhxix https//t.co/tpl3upsj4e', 'warning over win32/stealthfalcon malware that uses windows update system to steal data https//t.co/hlflgoodit', 'thinking about moving to a windows 10 device? gomodern to unlock cost savings and thirdparty security solutions. check out the full forrester study for more. https//t.co/nt4ptegzp9', 'windowsind windows hopeless service.. trying to get issue resolved over chat with same agent (ritvik) already 4 times he has kept me waiting and disconnected chat support. case no.  1482644147', '5 basic troubleshooting steps to fix windows10 problems https//t.co/ajerqh7cir sankalpit sankalpit', 'i just entered to win $10,000 in windows and doors from renewal by andersen rbacorp. enter for your chance to win https//t.co/jrpkfoe126', 'i look through the windows of this love even though we boarded them up chandelier still flickering here   i cant pretend its okay when its not', 'theres a lovely symmetry that this excerpt runs in nymag, which anointed windows on the world in 1976 and gave me a book title https//t.co/6l8aplaxra', 'stevenkister1 right but isnt it presumptuous of ms to think that every org uses either sccm or intune? windows analytics was free and did not require anything other than azure. da will only be available for sccm and intune customers and comes at a cost.', 'let’s talk about windows lead training in action kurtfog kathy_l2716 gtbrockies https//t.co/euz1t4eqoy', 'set in the heart of wiltshire lies the idyllic and luxurious wedding venue syrencot.   the stunning georgian windows of this beautiful countryside location feature our timeless blackout drapery fabric dusk putty.  photography katherineyphoto https//t.co/vbhtvrxab8', 'update windows, office 365 berubah jadi office 2019 🤔', 'im afraid of the dark too 😢 i slept with the lights on until i was 13 😔 🤦🏻\\u200d♀️    if you could time travel, where… — i sleep with my windows open, because theres a street light in front of my bedroom 😅  i would go back to 2012 be… https//t.co/ghtubdjecu', 'i bust the windows out your caaarrrrrr and no it didnt mend my broken heaaaaarttttt', 'how do you know if your company is secure or at risk of becoming a cybercrime victim? take this 10question quiz to find out and get tips for using office 365, windows 10 enterprise and enterprise mobility + security to address your most pressing securit… https//t.co/d3gvubp1fh https//t.co/za3efbbwxv', 'microsoft core services engineering and operations (cseo) deployed windows 10 to 96,000 distributed users in nine weeks. we can help you deploy your operating system upgrades faster. information tech https//t.co/vsksntcqzl', 'comprehensive independent non bias site reports? may be something i can help you with. watch this space folks fenestration independent windows doors windowindustry', 'jose survived two tours of duty w the us marine corps, a bomb blast &amp; a traumatic brain injury  “i’m not going to die here. i refuse to die here,” segovia said on a recent morning, wearing a red jail uniform and seated in a cramped room with no windows  https//t.co/2jjv7dfjjq', 'stevemouzon duodickinson paulgoldberger dhruggles steve, i agree with you, but apparently there is now hightech glass that does have a decent r value. google doesnt turn it up, however, because it focuses on stock windows.', 'how to create a folder without any icon or name https//t.co/dbddqgdvdz', 'wubsnet soooooooo ridiculous. they have windows, exits, entrances,. i’d appreciate something, anything believable. btw, when did nys institute coed prisons?', 'owainkenway this gets me too. and its a right pita. i think my next move is back to windows anyways, running office in a vm is more painful than a windows machine with linux vm for code os wsl.', 'our first free tour for heritageopenday focuses on the medieval stained glass of exeter cathedral. we’ll discuss the special qualities of medieval glass; the fabrication and restoration of the windows, and the glaziers involved.  book free here https//t.co/boncgqerua https//t.co/4n0szbedwv', '_danielsinclair swiftonsecurity paulhdonnellyii either of you still got any windows vista sparkling water?', 'i was moved to the floor with no windows or proper ceiling lights today https//t.co/qtc5jd3fb5', 'used 2016 audi a1 1.0 tfsi  auto great buy 79000km automatic gear leather seats,https//t.co/pmozfyctze, aux,bluetooth,usb,abs, power steering, air con, power steering electric windows,electric adjust side mirrors,,mag wheels , ,mechanically perfect, well maintained white https//t.co/fwjz0x2avw', 'congrats to docsoupman for today’s publication of his fascinating book, “the most spectacular restaurant in the world.” already getting rave reviews go buy it now... https//t.co/qgzokhgpia', 'anandmahindra alliuminium saliding windows and doors and soundproof windows interested please contact me krishna.aluminium18gmail.com 8879309212 low cost', 'kumo ind. llc korea aluminum &amp; upvc, windows, doors, modern kitchen trading  showroom sheikh mohammed bin salem road, ras al khaimah, uae from saturday  thursday 0900am100pm then 400pm1000pm  factory umm al quwain, uae from saturday  thursday 700am  700pm https//t.co/fhulapkisi', 'ambjohnbolton that morning i turned on the news, which i never do before work. i thought i had accidentally turned on a movie channel until every channel showed footage of the same thing. then the phone calls started. stunningly surreal. footage of people leaping from windows was, well.....', 'adobecare yes im getting white screen several times, this the fourth time my xd crash, its running on windows 10 64bit btw, i dont have this problem on my mac', 'indianrailway__ traveling in train lacking in basic safety facilities  fire extinguisher just showpiece  2. water between windows giving look of aquarium without fish  3. damaged bio flush in bathroom. 4. pantry serving items other then menu feels like looted in name of fare', 'damidnitekid pesuniverse i’m downloading it but it’s coming through as a ‘photo viewer’. how do i download as a folder? done it in previous years. might be more of a windows 10 question?', 'iambrigettl missn3001 tambo memorial (bbh) is just as bad our public hospitals leave a lot to be desired for .the labour ward bathrooms have no windows or toilet paper some doors dont even close in the recovery room and thats where the new mums and babies are placed😢 sherbetits a nightmare', 'going back to windows bout to set myself back up, starting to miss it.', 'gamermikeh corsair maybe its windows fault with all those updates lately 🤔', 'check out my latest article right place. right time. windows of opportunity and the many variables https//t.co/initm2dqsk via linkedin']\n"
     ]
    }
   ],
   "source": [
    "limp=[]\n",
    "for i in Doc.Treinamento:\n",
    "    a=re.sub('@','',i)\n",
    "    a=re.sub(':','',a)\n",
    "    a=re.sub(\"'\",'',a)\n",
    "    a=re.sub('-','',a)\n",
    "    a=re.sub('#','',a)\n",
    "    a=re.sub('\"','',a)\n",
    "    a=re.sub('!','',a)\n",
    "    a=re.sub('\\n',' ',a)\n",
    "    a=re.sub('\\t',' ',a)\n",
    "    limp.append(a)\n",
    "print(limp)"
   ]
  },
  {
   "cell_type": "code",
   "execution_count": 107,
   "metadata": {},
   "outputs": [
    {
     "data": {
      "text/html": [
       "<div>\n",
       "<style scoped>\n",
       "    .dataframe tbody tr th:only-of-type {\n",
       "        vertical-align: middle;\n",
       "    }\n",
       "\n",
       "    .dataframe tbody tr th {\n",
       "        vertical-align: top;\n",
       "    }\n",
       "\n",
       "    .dataframe thead th {\n",
       "        text-align: right;\n",
       "    }\n",
       "</style>\n",
       "<table border=\"1\" class=\"dataframe\">\n",
       "  <thead>\n",
       "    <tr style=\"text-align: right;\">\n",
       "      <th></th>\n",
       "      <th>Treinamento</th>\n",
       "      <th>Relevancia</th>\n",
       "    </tr>\n",
       "  </thead>\n",
       "  <tbody>\n",
       "    <tr>\n",
       "      <th>0</th>\n",
       "      <td>evelynchartres oh thats good to know i have wi...</td>\n",
       "      <td>1</td>\n",
       "    </tr>\n",
       "    <tr>\n",
       "      <th>1</th>\n",
       "      <td>how to resolve a usb security key is not worki...</td>\n",
       "      <td>1</td>\n",
       "    </tr>\n",
       "    <tr>\n",
       "      <th>2</th>\n",
       "      <td>kumo ind. llc korea aluminum &amp;amp; upvc, windo...</td>\n",
       "      <td>0</td>\n",
       "    </tr>\n",
       "    <tr>\n",
       "      <th>3</th>\n",
       "      <td>full time heritage windows 2  1 braishfield fo...</td>\n",
       "      <td>0</td>\n",
       "    </tr>\n",
       "    <tr>\n",
       "      <th>4</th>\n",
       "      <td>sagaciouszu aciouvistas gorydetail it doesnt f...</td>\n",
       "      <td>1</td>\n",
       "    </tr>\n",
       "  </tbody>\n",
       "</table>\n",
       "</div>"
      ],
      "text/plain": [
       "                                         Treinamento  Relevancia\n",
       "0  evelynchartres oh thats good to know i have wi...           1\n",
       "1  how to resolve a usb security key is not worki...           1\n",
       "2  kumo ind. llc korea aluminum &amp; upvc, windo...           0\n",
       "3  full time heritage windows 2  1 braishfield fo...           0\n",
       "4  sagaciouszu aciouvistas gorydetail it doesnt f...           1"
      ]
     },
     "execution_count": 107,
     "metadata": {},
     "output_type": "execute_result"
    }
   ],
   "source": [
    "Doc_limpo = pd.DataFrame()\n",
    "Doc_limpo['Treinamento']=limp\n",
    "Doc_limpo['Relevancia']=Doc.Relevancia\n",
    "Doc_limpo.head()"
   ]
  },
  {
   "cell_type": "markdown",
   "metadata": {},
   "source": [
    "___\n",
    "### Verificando a performance\n",
    "\n",
    "Agora você deve testar o seu classificador com a base de Testes."
   ]
  },
  {
   "cell_type": "code",
   "execution_count": null,
   "metadata": {},
   "outputs": [],
   "source": []
  },
  {
   "cell_type": "code",
   "execution_count": null,
   "metadata": {},
   "outputs": [],
   "source": []
  },
  {
   "cell_type": "code",
   "execution_count": null,
   "metadata": {},
   "outputs": [],
   "source": []
  },
  {
   "cell_type": "markdown",
   "metadata": {},
   "source": [
    "___\n",
    "### Concluindo"
   ]
  },
  {
   "cell_type": "code",
   "execution_count": null,
   "metadata": {},
   "outputs": [],
   "source": []
  },
  {
   "cell_type": "code",
   "execution_count": null,
   "metadata": {},
   "outputs": [],
   "source": []
  },
  {
   "cell_type": "markdown",
   "metadata": {},
   "source": [
    "## Aperfeiçoamento:\n",
    "\n",
    "Os trabalhos vão evoluir em conceito dependendo da quantidade de itens avançados:\n",
    "\n",
    "* Limpar: \\n, :, \", ', (, ), etc SEM remover emojis\n",
    "* Corrigir separação de espaços entre palavras e emojis ou emojis e emojis\n",
    "* Propor outras limpezas e transformações que não afetem a qualidade da informação ou classificação\n",
    "* Criar categorias intermediárias de relevância baseadas na probabilidade: ex.: muito relevante, relevante, neutro, irrelevante, muito irrelevante (3 categorias: C, mais categorias conta para B)\n",
    "* Explicar por que não posso usar o próprio classificador para gerar mais amostras de treinamento\n",
    "* Propor diferentes cenários para Naïve Bayes fora do contexto do projeto\n",
    "* Sugerir e explicar melhorias reais com indicações concretas de como implementar (indicar como fazer e indicar material de pesquisa)\n",
    "* Montar um dashboard que periodicamente realiza análise de sentimento e visualiza estes dados"
   ]
  },
  {
   "cell_type": "markdown",
   "metadata": {},
   "source": [
    "# Referências"
   ]
  },
  {
   "cell_type": "markdown",
   "metadata": {},
   "source": [
    "[Naive Bayes and Text Classification](https://arxiv.org/pdf/1410.5329.pdf)  **Mais completo**\n",
    "\n",
    "[A practical explanation of a Naive Bayes Classifier](https://monkeylearn.com/blog/practical-explanation-naive-bayes-classifier/) **Mais simples**"
   ]
  },
  {
   "cell_type": "code",
   "execution_count": null,
   "metadata": {},
   "outputs": [],
   "source": []
  }
 ],
 "metadata": {
  "kernelspec": {
   "display_name": "Python 3",
   "language": "python",
   "name": "python3"
  },
  "language_info": {
   "codemirror_mode": {
    "name": "ipython",
    "version": 3
   },
   "file_extension": ".py",
   "mimetype": "text/x-python",
   "name": "python",
   "nbconvert_exporter": "python",
   "pygments_lexer": "ipython3",
   "version": "3.7.1"
  }
 },
 "nbformat": 4,
 "nbformat_minor": 4
}
